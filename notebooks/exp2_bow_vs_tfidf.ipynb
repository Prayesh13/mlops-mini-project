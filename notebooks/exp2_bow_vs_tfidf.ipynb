{
 "cells": [
  {
   "cell_type": "markdown",
   "metadata": {},
   "source": [
    "# BoW vs Tf-Idf"
   ]
  },
  {
   "cell_type": "code",
   "execution_count": 3,
   "metadata": {},
   "outputs": [],
   "source": [
    "# Import necessary libraries\n",
    "import mlflow\n",
    "import mlflow.sklearn\n",
    "from sklearn.feature_extraction.text import CountVectorizer, TfidfVectorizer\n",
    "from sklearn.model_selection import train_test_split\n",
    "from sklearn.linear_model import LogisticRegression\n",
    "from sklearn.naive_bayes import MultinomialNB\n",
    "from xgboost import XGBClassifier\n",
    "from sklearn.ensemble import RandomForestClassifier, GradientBoostingClassifier\n",
    "from sklearn.metrics import accuracy_score, precision_score, recall_score, f1_score\n",
    "import pandas as pd\n",
    "import re\n",
    "import string\n",
    "from nltk.corpus import stopwords\n",
    "from nltk.stem import WordNetLemmatizer\n",
    "import numpy as np\n",
    "import os\n",
    "\n",
    "import dagshub"
   ]
  },
  {
   "cell_type": "code",
   "execution_count": 4,
   "metadata": {},
   "outputs": [
    {
     "data": {
      "text/html": [
       "<pre style=\"white-space:pre;overflow-x:auto;line-height:normal;font-family:Menlo,'DejaVu Sans Mono',consolas,'Courier New',monospace\">Accessing as Prayesh13\n",
       "</pre>\n"
      ],
      "text/plain": [
       "Accessing as Prayesh13\n"
      ]
     },
     "metadata": {},
     "output_type": "display_data"
    },
    {
     "data": {
      "text/html": [
       "<pre style=\"white-space:pre;overflow-x:auto;line-height:normal;font-family:Menlo,'DejaVu Sans Mono',consolas,'Courier New',monospace\">Initialized MLflow to track repo <span style=\"color: #008000; text-decoration-color: #008000\">\"Prayesh13/mlops-mini-project\"</span>\n",
       "</pre>\n"
      ],
      "text/plain": [
       "Initialized MLflow to track repo \u001b[32m\"Prayesh13/mlops-mini-project\"\u001b[0m\n"
      ]
     },
     "metadata": {},
     "output_type": "display_data"
    },
    {
     "data": {
      "text/html": [
       "<pre style=\"white-space:pre;overflow-x:auto;line-height:normal;font-family:Menlo,'DejaVu Sans Mono',consolas,'Courier New',monospace\">Repository Prayesh13/mlops-mini-project initialized!\n",
       "</pre>\n"
      ],
      "text/plain": [
       "Repository Prayesh13/mlops-mini-project initialized!\n"
      ]
     },
     "metadata": {},
     "output_type": "display_data"
    }
   ],
   "source": [
    "mlflow.set_tracking_uri('https://dagshub.com/Prayesh13/mlops-mini-project.mlflow')\n",
    "\n",
    "dagshub.init(repo_owner='Prayesh13', repo_name='mlops-mini-project', mlflow=True)"
   ]
  },
  {
   "cell_type": "code",
   "execution_count": 5,
   "metadata": {},
   "outputs": [
    {
     "data": {
      "text/html": [
       "<div>\n",
       "<style scoped>\n",
       "    .dataframe tbody tr th:only-of-type {\n",
       "        vertical-align: middle;\n",
       "    }\n",
       "\n",
       "    .dataframe tbody tr th {\n",
       "        vertical-align: top;\n",
       "    }\n",
       "\n",
       "    .dataframe thead th {\n",
       "        text-align: right;\n",
       "    }\n",
       "</style>\n",
       "<table border=\"1\" class=\"dataframe\">\n",
       "  <thead>\n",
       "    <tr style=\"text-align: right;\">\n",
       "      <th></th>\n",
       "      <th>sentiment</th>\n",
       "      <th>content</th>\n",
       "    </tr>\n",
       "  </thead>\n",
       "  <tbody>\n",
       "    <tr>\n",
       "      <th>0</th>\n",
       "      <td>empty</td>\n",
       "      <td>@tiffanylue i know  i was listenin to bad habi...</td>\n",
       "    </tr>\n",
       "    <tr>\n",
       "      <th>1</th>\n",
       "      <td>sadness</td>\n",
       "      <td>Layin n bed with a headache  ughhhh...waitin o...</td>\n",
       "    </tr>\n",
       "    <tr>\n",
       "      <th>2</th>\n",
       "      <td>sadness</td>\n",
       "      <td>Funeral ceremony...gloomy friday...</td>\n",
       "    </tr>\n",
       "    <tr>\n",
       "      <th>3</th>\n",
       "      <td>enthusiasm</td>\n",
       "      <td>wants to hang out with friends SOON!</td>\n",
       "    </tr>\n",
       "    <tr>\n",
       "      <th>4</th>\n",
       "      <td>neutral</td>\n",
       "      <td>@dannycastillo We want to trade with someone w...</td>\n",
       "    </tr>\n",
       "  </tbody>\n",
       "</table>\n",
       "</div>"
      ],
      "text/plain": [
       "    sentiment                                            content\n",
       "0       empty  @tiffanylue i know  i was listenin to bad habi...\n",
       "1     sadness  Layin n bed with a headache  ughhhh...waitin o...\n",
       "2     sadness                Funeral ceremony...gloomy friday...\n",
       "3  enthusiasm               wants to hang out with friends SOON!\n",
       "4     neutral  @dannycastillo We want to trade with someone w..."
      ]
     },
     "execution_count": 5,
     "metadata": {},
     "output_type": "execute_result"
    }
   ],
   "source": [
    "# Load the data\n",
    "df = pd.read_csv('https://raw.githubusercontent.com/campusx-official/jupyter-masterclass/main/tweet_emotions.csv').drop(columns=['tweet_id'])\n",
    "df.head()"
   ]
  },
  {
   "cell_type": "code",
   "execution_count": 6,
   "metadata": {},
   "outputs": [
    {
     "name": "stderr",
     "output_type": "stream",
     "text": [
      "C:\\Users\\praye\\AppData\\Local\\Temp\\ipykernel_21380\\1076071684.py:4: FutureWarning: Downcasting behavior in `replace` is deprecated and will be removed in a future version. To retain the old behavior, explicitly call `result.infer_objects(copy=False)`. To opt-in to the future behavior, set `pd.set_option('future.no_silent_downcasting', True)`\n",
      "  df['sentiment'] = df['sentiment'].replace({'sadness':0, 'happiness':1})\n"
     ]
    }
   ],
   "source": [
    "x = df['sentiment'].isin(['happiness','sadness'])\n",
    "df = df[x]\n",
    "\n",
    "df['sentiment'] = df['sentiment'].replace({'sadness':0, 'happiness':1})"
   ]
  },
  {
   "cell_type": "code",
   "execution_count": 7,
   "metadata": {},
   "outputs": [
    {
     "name": "stderr",
     "output_type": "stream",
     "text": [
      "<>:30: SyntaxWarning: invalid escape sequence '\\s'\n",
      "<>:30: SyntaxWarning: invalid escape sequence '\\s'\n",
      "C:\\Users\\praye\\AppData\\Local\\Temp\\ipykernel_21380\\2889768793.py:30: SyntaxWarning: invalid escape sequence '\\s'\n",
      "  text = re.sub('\\s+', ' ', text).strip()\n"
     ]
    }
   ],
   "source": [
    "# Define text preprocessing functions\n",
    "def lemmatization(text):\n",
    "    \"\"\"Lemmatize the text.\"\"\"\n",
    "    lemmatizer = WordNetLemmatizer()\n",
    "    text = text.split()\n",
    "    text = [lemmatizer.lemmatize(word) for word in text]\n",
    "    return \" \".join(text)\n",
    "\n",
    "def remove_stop_words(text):\n",
    "    \"\"\"Remove stop words from the text.\"\"\"\n",
    "    stop_words = set(stopwords.words(\"english\"))\n",
    "    text = [word for word in str(text).split() if word not in stop_words]\n",
    "    return \" \".join(text)\n",
    "\n",
    "def removing_numbers(text):\n",
    "    \"\"\"Remove numbers from the text.\"\"\"\n",
    "    text = ''.join([char for char in text if not char.isdigit()])\n",
    "    return text\n",
    "\n",
    "def lower_case(text):\n",
    "    \"\"\"Convert text to lower case.\"\"\"\n",
    "    text = text.split()\n",
    "    text = [word.lower() for word in text]\n",
    "    return \" \".join(text)\n",
    "\n",
    "def removing_punctuations(text):\n",
    "    \"\"\"Remove punctuations from the text.\"\"\"\n",
    "    text = re.sub('[%s]' % re.escape(string.punctuation), ' ', text)\n",
    "    text = text.replace('؛', \"\")\n",
    "    text = re.sub('\\s+', ' ', text).strip()\n",
    "    return text\n",
    "\n",
    "def removing_urls(text):\n",
    "    \"\"\"Remove URLs from the text.\"\"\"\n",
    "    url_pattern = re.compile(r'https?://\\S+|www\\.\\S+')\n",
    "    return url_pattern.sub(r'', text)\n",
    "\n",
    "def normalize_text(df):\n",
    "    \"\"\"Normalize the text data.\"\"\"\n",
    "    try:\n",
    "        df['content'] = df['content'].apply(lower_case)\n",
    "        df['content'] = df['content'].apply(remove_stop_words)\n",
    "        df['content'] = df['content'].apply(removing_numbers)\n",
    "        df['content'] = df['content'].apply(removing_punctuations)\n",
    "        df['content'] = df['content'].apply(removing_urls)\n",
    "        df['content'] = df['content'].apply(lemmatization)\n",
    "        return df\n",
    "    except Exception as e:\n",
    "        print(f'Error during text normalization: {e}')\n",
    "        raise\n",
    "\n",
    "# Normalize the text data\n",
    "df = normalize_text(df)\n"
   ]
  },
  {
   "cell_type": "code",
   "execution_count": 13,
   "metadata": {},
   "outputs": [],
   "source": [
    "# Set the experiment name\n",
    "mlflow.set_experiment(\"Bow vs TfIdf\")\n",
    "\n",
    "# Define feature extraction methods\n",
    "vectorizers = {\n",
    "    'BoW': CountVectorizer(),\n",
    "    'TF-IDF': TfidfVectorizer()\n",
    "}\n",
    "\n",
    "# Define algorithms\n",
    "algorithms = {\n",
    "    'LogisticRegression': LogisticRegression(n_jobs=-1),\n",
    "    'MultinomialNB': MultinomialNB(),\n",
    "    'XGBoost': XGBClassifier(n_jobs=-1),\n",
    "    'RandomForest': RandomForestClassifier(n_jobs=-1),\n",
    "    'GradientBoosting': GradientBoostingClassifier()\n",
    "}"
   ]
  },
  {
   "cell_type": "code",
   "execution_count": 14,
   "metadata": {},
   "outputs": [
    {
     "name": "stderr",
     "output_type": "stream",
     "text": [
      "2025/04/02 16:26:53 WARNING mlflow.models.model: Model logged without a signature and input example. Please set `input_example` parameter when logging the model to auto infer the model signature.\n"
     ]
    },
    {
     "name": "stdout",
     "output_type": "stream",
     "text": [
      "Algorithm: LogisticRegression, Feature Engineering: BoW\n",
      "Accuracy: 0.7937349397590362\n",
      "Precision: 0.7846750727449079\n",
      "Recall: 0.7970443349753694\n",
      "F1 Score: 0.7908113391984359\n",
      "🏃 View run LogisticRegression with BoW at: https://dagshub.com/Prayesh13/mlops-mini-project.mlflow/#/experiments/1/runs/b5ee1b2427394facbe7f4954567f881e\n",
      "🧪 View experiment at: https://dagshub.com/Prayesh13/mlops-mini-project.mlflow/#/experiments/1\n"
     ]
    },
    {
     "name": "stderr",
     "output_type": "stream",
     "text": [
      "2025/04/02 16:27:08 WARNING mlflow.models.model: Model logged without a signature and input example. Please set `input_example` parameter when logging the model to auto infer the model signature.\n"
     ]
    },
    {
     "name": "stdout",
     "output_type": "stream",
     "text": [
      "Algorithm: LogisticRegression, Feature Engineering: TF-IDF\n",
      "Accuracy: 0.7942168674698795\n",
      "Precision: 0.777882797731569\n",
      "Recall: 0.8108374384236453\n",
      "F1 Score: 0.79401833092137\n",
      "🏃 View run LogisticRegression with TF-IDF at: https://dagshub.com/Prayesh13/mlops-mini-project.mlflow/#/experiments/1/runs/ac8be6d1b70f4e92aad687598f04b199\n",
      "🧪 View experiment at: https://dagshub.com/Prayesh13/mlops-mini-project.mlflow/#/experiments/1\n"
     ]
    },
    {
     "name": "stderr",
     "output_type": "stream",
     "text": [
      "2025/04/02 16:27:24 WARNING mlflow.models.model: Model logged without a signature and input example. Please set `input_example` parameter when logging the model to auto infer the model signature.\n"
     ]
    },
    {
     "name": "stdout",
     "output_type": "stream",
     "text": [
      "Algorithm: MultinomialNB, Feature Engineering: BoW\n",
      "Accuracy: 0.7826506024096386\n",
      "Precision: 0.7797619047619048\n",
      "Recall: 0.774384236453202\n",
      "F1 Score: 0.7770637666831438\n",
      "🏃 View run MultinomialNB with BoW at: https://dagshub.com/Prayesh13/mlops-mini-project.mlflow/#/experiments/1/runs/ac0b592191234e44be815514e2fa3760\n",
      "🧪 View experiment at: https://dagshub.com/Prayesh13/mlops-mini-project.mlflow/#/experiments/1\n"
     ]
    },
    {
     "name": "stderr",
     "output_type": "stream",
     "text": [
      "2025/04/02 16:27:43 WARNING mlflow.models.model: Model logged without a signature and input example. Please set `input_example` parameter when logging the model to auto infer the model signature.\n"
     ]
    },
    {
     "name": "stdout",
     "output_type": "stream",
     "text": [
      "Algorithm: MultinomialNB, Feature Engineering: TF-IDF\n",
      "Accuracy: 0.7826506024096386\n",
      "Precision: 0.7737864077669903\n",
      "Recall: 0.7852216748768472\n",
      "F1 Score: 0.7794621026894866\n",
      "🏃 View run MultinomialNB with TF-IDF at: https://dagshub.com/Prayesh13/mlops-mini-project.mlflow/#/experiments/1/runs/d432ea9b2d994219b8ccbb07247973fd\n",
      "🧪 View experiment at: https://dagshub.com/Prayesh13/mlops-mini-project.mlflow/#/experiments/1\n"
     ]
    },
    {
     "name": "stderr",
     "output_type": "stream",
     "text": [
      "2025/04/02 16:28:04 WARNING mlflow.models.model: Model logged without a signature and input example. Please set `input_example` parameter when logging the model to auto infer the model signature.\n"
     ]
    },
    {
     "name": "stdout",
     "output_type": "stream",
     "text": [
      "Algorithm: XGBoost, Feature Engineering: BoW\n",
      "Accuracy: 0.771566265060241\n",
      "Precision: 0.7988950276243094\n",
      "Recall: 0.7123152709359606\n",
      "F1 Score: 0.753125\n",
      "🏃 View run XGBoost with BoW at: https://dagshub.com/Prayesh13/mlops-mini-project.mlflow/#/experiments/1/runs/ae0ec45635a34b278f7e2c73bb145b1f\n",
      "🧪 View experiment at: https://dagshub.com/Prayesh13/mlops-mini-project.mlflow/#/experiments/1\n"
     ]
    },
    {
     "name": "stderr",
     "output_type": "stream",
     "text": [
      "2025/04/02 16:28:23 WARNING mlflow.models.model: Model logged without a signature and input example. Please set `input_example` parameter when logging the model to auto infer the model signature.\n"
     ]
    },
    {
     "name": "stdout",
     "output_type": "stream",
     "text": [
      "Algorithm: XGBoost, Feature Engineering: TF-IDF\n",
      "Accuracy: 0.7614457831325301\n",
      "Precision: 0.7170283806343907\n",
      "Recall: 0.8463054187192118\n",
      "F1 Score: 0.7763217352010845\n",
      "🏃 View run XGBoost with TF-IDF at: https://dagshub.com/Prayesh13/mlops-mini-project.mlflow/#/experiments/1/runs/8253ce7b28ec4e44a9bc1fbc6e0375e8\n",
      "🧪 View experiment at: https://dagshub.com/Prayesh13/mlops-mini-project.mlflow/#/experiments/1\n"
     ]
    },
    {
     "name": "stderr",
     "output_type": "stream",
     "text": [
      "2025/04/02 16:28:46 WARNING mlflow.models.model: Model logged without a signature and input example. Please set `input_example` parameter when logging the model to auto infer the model signature.\n"
     ]
    },
    {
     "name": "stdout",
     "output_type": "stream",
     "text": [
      "Algorithm: RandomForest, Feature Engineering: BoW\n",
      "Accuracy: 0.7691566265060241\n",
      "Precision: 0.7832980972515856\n",
      "Recall: 0.7300492610837438\n",
      "F1 Score: 0.7557368689444162\n",
      "🏃 View run RandomForest with BoW at: https://dagshub.com/Prayesh13/mlops-mini-project.mlflow/#/experiments/1/runs/76e01b80793a480bb20807af9adee835\n",
      "🧪 View experiment at: https://dagshub.com/Prayesh13/mlops-mini-project.mlflow/#/experiments/1\n"
     ]
    },
    {
     "name": "stderr",
     "output_type": "stream",
     "text": [
      "2025/04/02 16:29:52 WARNING mlflow.models.model: Model logged without a signature and input example. Please set `input_example` parameter when logging the model to auto infer the model signature.\n"
     ]
    },
    {
     "name": "stdout",
     "output_type": "stream",
     "text": [
      "Algorithm: RandomForest, Feature Engineering: TF-IDF\n",
      "Accuracy: 0.7672289156626506\n",
      "Precision: 0.7686868686868686\n",
      "Recall: 0.7497536945812808\n",
      "F1 Score: 0.7591022443890274\n",
      "🏃 View run RandomForest with TF-IDF at: https://dagshub.com/Prayesh13/mlops-mini-project.mlflow/#/experiments/1/runs/1bd10893af2740b9abad866312365d51\n",
      "🧪 View experiment at: https://dagshub.com/Prayesh13/mlops-mini-project.mlflow/#/experiments/1\n"
     ]
    },
    {
     "name": "stderr",
     "output_type": "stream",
     "text": [
      "2025/04/02 16:30:55 WARNING mlflow.models.model: Model logged without a signature and input example. Please set `input_example` parameter when logging the model to auto infer the model signature.\n"
     ]
    },
    {
     "name": "stdout",
     "output_type": "stream",
     "text": [
      "Algorithm: GradientBoosting, Feature Engineering: BoW\n",
      "Accuracy: 0.7272289156626506\n",
      "Precision: 0.7989347536617842\n",
      "Recall: 0.5911330049261084\n",
      "F1 Score: 0.6795016987542469\n",
      "🏃 View run GradientBoosting with BoW at: https://dagshub.com/Prayesh13/mlops-mini-project.mlflow/#/experiments/1/runs/24dd9ee16ca344d7852a957bfa235506\n",
      "🧪 View experiment at: https://dagshub.com/Prayesh13/mlops-mini-project.mlflow/#/experiments/1\n"
     ]
    },
    {
     "name": "stderr",
     "output_type": "stream",
     "text": [
      "2025/04/02 16:31:30 WARNING mlflow.models.model: Model logged without a signature and input example. Please set `input_example` parameter when logging the model to auto infer the model signature.\n"
     ]
    },
    {
     "name": "stdout",
     "output_type": "stream",
     "text": [
      "Algorithm: GradientBoosting, Feature Engineering: TF-IDF\n",
      "Accuracy: 0.72\n",
      "Precision: 0.803921568627451\n",
      "Recall: 0.5655172413793104\n",
      "F1 Score: 0.6639676113360324\n",
      "🏃 View run GradientBoosting with TF-IDF at: https://dagshub.com/Prayesh13/mlops-mini-project.mlflow/#/experiments/1/runs/1773829917dc46f6a950d20e7d11275e\n",
      "🧪 View experiment at: https://dagshub.com/Prayesh13/mlops-mini-project.mlflow/#/experiments/1\n",
      "🏃 View run All Experiments at: https://dagshub.com/Prayesh13/mlops-mini-project.mlflow/#/experiments/1/runs/c285fc824788467cb0d930a3b003ca3d\n",
      "🧪 View experiment at: https://dagshub.com/Prayesh13/mlops-mini-project.mlflow/#/experiments/1\n"
     ]
    }
   ],
   "source": [
    "# Start the parent run\n",
    "with mlflow.start_run(run_name=\"All Experiments\") as parent_run:\n",
    "    # Loop through algorithms and feature extraction methods (Child Runs)\n",
    "    for algo_name, algorithm in algorithms.items():\n",
    "        for vec_name, vectorizer in vectorizers.items():\n",
    "            with mlflow.start_run(run_name=f\"{algo_name} with {vec_name}\", nested=True) as child_run:\n",
    "                X = vectorizer.fit_transform(df['content'])\n",
    "                y = df['sentiment']\n",
    "                X_train, X_test, y_train, y_test = train_test_split(X, y, test_size=0.2, random_state=42)\n",
    "                \n",
    "\n",
    "                # Log preprocessing parameters\n",
    "                mlflow.log_param(\"vectorizer\", vec_name)\n",
    "                mlflow.log_param(\"algorithm\", algo_name)\n",
    "                mlflow.log_param(\"test_size\", 0.2)\n",
    "                \n",
    "                # Model training\n",
    "                model = algorithm\n",
    "                model.fit(X_train, y_train)\n",
    "                \n",
    "                # Log model parameters\n",
    "                if algo_name == 'LogisticRegression':\n",
    "                    mlflow.log_param(\"C\", model.C)\n",
    "                elif algo_name == 'MultinomialNB':\n",
    "                    mlflow.log_param(\"alpha\", model.alpha)\n",
    "                elif algo_name == 'XGBoost':\n",
    "                    mlflow.log_param(\"n_estimators\", model.n_estimators)\n",
    "                    mlflow.log_param(\"learning_rate\", model.learning_rate)\n",
    "                elif algo_name == 'RandomForest':\n",
    "                    mlflow.log_param(\"n_estimators\", model.n_estimators)\n",
    "                    mlflow.log_param(\"max_depth\", model.max_depth)\n",
    "                elif algo_name == 'GradientBoosting':\n",
    "                    mlflow.log_param(\"n_estimators\", model.n_estimators)\n",
    "                    mlflow.log_param(\"learning_rate\", model.learning_rate)\n",
    "                    mlflow.log_param(\"max_depth\", model.max_depth)\n",
    "                \n",
    "                # Model evaluation\n",
    "                y_pred = model.predict(X_test)\n",
    "                accuracy = accuracy_score(y_test, y_pred)\n",
    "                precision = precision_score(y_test, y_pred)\n",
    "                recall = recall_score(y_test, y_pred)\n",
    "                f1 = f1_score(y_test, y_pred)\n",
    "                \n",
    "                # Log evaluation metrics\n",
    "                mlflow.log_metric(\"accuracy\", accuracy)\n",
    "                mlflow.log_metric(\"precision\", precision)\n",
    "                mlflow.log_metric(\"recall\", recall)\n",
    "                mlflow.log_metric(\"f1_score\", f1)\n",
    "                \n",
    "                # Log model\n",
    "                mlflow.sklearn.log_model(model, \"model\")\n",
    "                \n",
    "                # Save and log the notebook\n",
    "                notebook_path = \"exp2_bow_vs_tfidf.ipynb\"\n",
    "\n",
    "                mlflow.log_artifact(notebook_path)\n",
    "                \n",
    "                # Print the results for verification\n",
    "                print(f\"Algorithm: {algo_name}, Feature Engineering: {vec_name}\")\n",
    "                print(f\"Accuracy: {accuracy}\")\n",
    "                print(f\"Precision: {precision}\")\n",
    "                print(f\"Recall: {recall}\")\n",
    "                print(f\"F1 Score: {f1}\")"
   ]
  },
  {
   "cell_type": "code",
   "execution_count": null,
   "metadata": {},
   "outputs": [],
   "source": []
  }
 ],
 "metadata": {
  "kernelspec": {
   "display_name": "myenv",
   "language": "python",
   "name": "python3"
  },
  "language_info": {
   "codemirror_mode": {
    "name": "ipython",
    "version": 3
   },
   "file_extension": ".py",
   "mimetype": "text/x-python",
   "name": "python",
   "nbconvert_exporter": "python",
   "pygments_lexer": "ipython3",
   "version": "3.12.7"
  }
 },
 "nbformat": 4,
 "nbformat_minor": 2
}
